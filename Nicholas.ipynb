{
 "cells": [
  {
   "cell_type": "markdown",
   "metadata": {},
   "source": [
    "# Earthquake Data Analysis\n",
    "\n",
    "### Description\n",
    "\n",
    "The catalog includes the magnitude, time of occurrence (s), and 3D coordinates (m) of earthquakes in about 20 years of recording in South California. Coordinates were converted from latitude, longitude, and depth of events in a seismic catalog. Magnitudes should be within the range $[0,8]$.\n",
    "\n",
    "* **Waiting time (t)**: time interval between an event and the next one in the sequence.\n",
    "* **Distance (r)**: Eucledian 3D distance between events. (each 3D set of coordinates refers to the hypocenter, i.e. the point triggering the slip in a fault that forms the earthquake)\n",
    "\n",
    "\n",
    "### Assignments\n",
    "\n",
    "1. Deduce what is the variable in each column of the catalog.\n",
    "2. Visualize the process in space and/or time with suitable time series and/or 3D visualizations of the hypocenters. For instance, plot a space variable (a single coordinate or a nice linear combination of coordinates) as a function of time.\n",
    "3. Compute the distribution $P_m(t)$ of waiting times for events of magnitude m or above (i.e. do not consider events below $m$). In shaping the bin sizes, take into account that this distribution is expected to have a power-law decay with time (e.g $\\sim 1/t$), and that a power-law is well visualized in log-log scale. Do this analysis for many values of $m$, say $m=2,3,4,5$.\n",
    "4. Compute the distribution $P_m(r)$ of the distance between an event and the next one, considering earthquakes of magnitude m or above. Also here make a clever choice for the bin sizes and try several values of $m$.\n",
    "5. Compute the distribution $P_{m,R}(t)$ of waiting times for events of magnitude $m$ or above, which are separated by at most a distance $r<R$, for different values of m and $R$. (In this statistics, if the following event is farther than $R$, skip the $t$ and go to the next pair)\n",
    "6. Eventually note if, from the analysis of the previous points, there emerges a scaling picture. Is there a suitable rescaling that collapses distributions for various $m$ (and eventually $R$ if point 5 is considered) on a single curve?\n",
    "\n",
    "### Datasets\n",
    "\n",
    "* column 1: index of the event\n",
    "* column 2: index of the previous event that triggered it (defined with a given algorithm), -1 if no ancestor is found\n",
    "* column 3: time (seconds) from 0:00 of Jan.1st, 1982\n",
    "* column 4: magnitude\n",
    "* columns 5, 6, and 7: 3D coordinates (meters) of the earthquake hypocenter, i.e. of the point from where it started. These Euclidean coordinates are derived from latitude, longitude and depth.\n",
    "\n",
    "Joining each event to that with the index of the second column (if not -1), there emerges a set of causal trees.\n",
    "\n",
    "\n",
    "### Contact\n",
    "* Marco Baiesi <marco.baiesi@unipd.it>"
   ]
  },
  {
   "cell_type": "code",
   "execution_count": 161,
   "metadata": {},
   "outputs": [],
   "source": [
    "from pandas import DataFrame\n",
    "import pandas as pd\n",
    "import numpy as np \n",
    "from bokeh.plotting import figure, output_file, show\n",
    "from bokeh.tile_providers import CARTODBPOSITRON, get_provider\n",
    "from matplotlib import pyplot as plt"
   ]
  },
  {
   "cell_type": "code",
   "execution_count": 162,
   "metadata": {},
   "outputs": [],
   "source": [
    "# creazione dataframe\n",
    "\n",
    "filename = \"SouthCalifornia-1982-2011_Physics-of-Data.dat\"\n",
    "labels = (\"pointer\",\"t\",\"mag\",\"lat\",\"long\",\"dep\")\n",
    "\n",
    "d=pd.read_csv(filename,sep=\"\\s\",names=labels,engine='python')\n",
    "df = pd.DataFrame(data=d)"
   ]
  },
  {
   "cell_type": "code",
   "execution_count": 163,
   "metadata": {},
   "outputs": [],
   "source": [
    "#output_file(\"data.html\")\n",
    "\n",
    "#minLat = -85.05112878\n",
    "#minLong = -180\n",
    "#maxLat = 85.05112878\n",
    "#maxLong = 180\n",
    "#R = 6371000\n",
    "\n",
    "# prova fallimentare di conversione a mano\n",
    "#x = df.lat\n",
    "#y = df.long\n",
    "#lat = np.pi/2. - 2.*np.arctan(np.e**(-y/R)) #phi\n",
    "#long = x/R \n",
    "#C.scatter(lat*57.3,long*57.3)\n",
    "\n",
    "\n",
    "#tile_provider = get_provider(CARTODBPOSITRON)\n",
    "#C = figure(plot_width=800, plot_height=800, x_axis_type=\"mercator\", y_axis_type=\"mercator\")\n",
    "#C.add_tile(tile_provider)\n",
    "#C.scatter(df.long,df.lat)\n",
    "#show(C)"
   ]
  },
  {
   "cell_type": "code",
   "execution_count": 169,
   "metadata": {},
   "outputs": [],
   "source": [
    "#funzione per avere gli istoframmi con P(r) data la soglia di magnitudo\n",
    "def r_distr (df,m,num_bins):\n",
    "\n",
    "    #dataframe filtrato per certi valori della magnitudo\n",
    "    dr = df[df[\"mag\"]>m]\n",
    "    \n",
    "    #uso le colonne del dataframe per avere le distanze con cui fare l-istogramma\n",
    "    distance = []\n",
    "    X = np.array(dr[\"lat\"].tolist())\n",
    "    Y = np.array(dr[\"long\"].tolist())\n",
    "    Z = np.array(dr[\"dep\"].tolist())\n",
    "    size = len(dr[\"lat\"])\n",
    "    \n",
    "    #distanza calcolata in km\n",
    "    for i in range(0,size-1):\n",
    "        d = np.sqrt( (X[i]-X[i+1])**2. + (Y[i]-Y[i+1])**2. + (Z[i]-Z[i+1])**2.)\n",
    "        distance.append(d/1000)   \n",
    "\n",
    "    #creazione istogrammi relativi   \n",
    "    fig, (ax1, ax2) = plt.subplots(nrows=1, ncols=2, figsize=(15, 5))\n",
    "    \n",
    "    ax1.hist(distance,bins=num_bins,density=True)\n",
    "    ax1.set_title(\"r ditribution\")\n",
    "    ax1.set_ylabel(\"P(r)\")\n",
    "    ax1.set_xlabel(\"r (km)\")\n",
    "    \n",
    "    bins = np.logspace(0,3,num_bins)\n",
    "    ax2.hist(distance,bins=bins,density=True)\n",
    "    ax2.set_title(\"log log r ditribution\")\n",
    "    ax2.set_yscale('log') \n",
    "    ax2.set_xscale('log')\n",
    "    ax2.set_ylabel(\"P(r)\")\n",
    "    ax2.set_xlabel(\"r (km)\")\n",
    "    \n",
    "    return "
   ]
  },
  {
   "cell_type": "code",
   "execution_count": 170,
   "metadata": {},
   "outputs": [
    {
     "data": {
      "image/png": "[encoded data removed]",
      "text/plain": [
       "<Figure size 1080x360 with 2 Axes>"
      ]
     },
     "metadata": {
      "needs_background": "light"
     },
     "output_type": "display_data"
    },
    {
     "data": {
      "image/png": "[encoded data removed]",
      "text/plain": [
       "<Figure size 1080x360 with 2 Axes>"
      ]
     },
     "metadata": {
      "needs_background": "light"
     },
     "output_type": "display_data"
    }
   ],
   "source": [
    "r_distr(df,5,50)\n",
    "r_distr(df,3,50)"
   ]
  },
  {
   "cell_type": "code",
   "execution_count": null,
   "metadata": {},
   "outputs": [],
   "source": []
  }
 ],
 "metadata": {
  "kernelspec": {
   "display_name": "Python 3",
   "language": "python",
   "name": "python3"
  },
  "language_info": {
   "codemirror_mode": {
    "name": "ipython",
    "version": 3
   },
   "file_extension": ".py",
   "mimetype": "text/x-python",
   "name": "python",
   "nbconvert_exporter": "python",
   "pygments_lexer": "ipython3",
   "version": "3.8.3"
  }
 },
 "nbformat": 4,
 "nbformat_minor": 2
}
