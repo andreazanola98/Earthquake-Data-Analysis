{
 "cells": [
  {
   "cell_type": "code",
   "execution_count": 1,
   "metadata": {},
   "outputs": [],
   "source": [
    "import pandas as pd\n",
    "import matplotlib.pyplot as plt\n",
    "import numpy as np\n",
    "url='https://raw.githubusercontent.com/rossetl/Earthquake-Data-Analysis/main/SouthCalifornia-1982-2011_Physics-of-Data.dat'\n",
    "labels=['#', 'pointer','t', 'mag', 'lat', 'long', 'dep']\n",
    "df=pd.read_csv(url,sep=\"\\s\",names=labels,engine='python') \n",
    "df=df.drop(columns=['#'])"
   ]
  },
  {
   "cell_type": "code",
   "execution_count": null,
   "metadata": {
    "scrolled": false
   },
   "outputs": [],
   "source": [
    "magth=np.arange(3,7,1)\n",
    "extmv0=np.array([-6,-5,-4,-1])\n",
    "extmv1=np.array([3,4,4,4])\n",
    "ncpd=4 #number of class per decade\n",
    "num_bins=np.array([9,9,8,5])*(ncpd-1) \n",
    "#num_bins=40\n",
    "R=np.matrix('100000 100000 100000 100000;10000 10000 10000 10000;1000 1000 1000 1000')\n",
    "l=np.shape(R)[0]\n",
    "colors=['red','blue','green']\n",
    "c=60*60*24\n",
    "\n",
    "def p(i,j):\n",
    "    if i==1 and j==0:\n",
    "     p=2\n",
    "    elif i==1 and j==1:\n",
    "     p=3\n",
    "    else:\n",
    "     p=i+j\n",
    "    return p\n",
    "    \n",
    "fig0, axs = plt.subplots(2,2,figsize=(15,15))\n",
    "fig1, axt = plt.subplots(2,2,figsize=(15,15))\n",
    "\n",
    "for i in range(2):\n",
    "    for j in range(2):\n",
    "        for z in range(l):\n",
    "            mask=df['mag']>magth[p(i,j)]\n",
    "            dr=df[mask]\n",
    "            dr=dr.drop(columns=['t','pointer','mag'])\n",
    "            dr['dpw']=((dr.diff()**2).sum(axis=1))**0.5 #dpw stay  for distance pairs waise\n",
    "            dr=dr.drop(dr[dr['dpw'] > R[z,p(i,j)]].index)\n",
    "            dr.insert(loc=0, column='t', value=df['t'][dr.index].diff())\n",
    "            dr=dr.drop(columns=['lat','long','dep'])\n",
    "            dr.insert(loc=2, column='mag', value=df['mag'][dr.index])\n",
    "            dr['t'][dr['t'].index[0]]=0\n",
    "            \n",
    "            hcounts, hbins, hbars =axs[i,j].hist(dr['t']/c, alpha=0.5,color=colors[z],edgecolor='black',density=1,\n",
    "                                                 bins=np.logspace(extmv0[p(i,j)],extmv1[p(i,j)],num_bins[p(i,j)]),\n",
    "                                                 label='R=%.0f km'%(R[z,p(i,j)]/1000))\n",
    "\n",
    "            axs[i,j].set_xscale('log')\n",
    "            axs[i,j].set_yscale('log')\n",
    "            axs[i,j].set_xticks([1/c,60/c,1/24,1,7,365, 3650])\n",
    "            axs[i,j].set_xticklabels(['1s','1min','1h','1d','1w','1y','10y'])\n",
    "            axs[i,j].set_title('$P_{m= %.0f,R} (t)$' % magth[p(i,j)] )\n",
    "            axs[i,j].set_xlabel('Average Waiting Time')\n",
    "            axs[i,j].set_ylabel('PDF')\n",
    "            \n",
    "            cnt, edges = np.histogram(dr['t']/c, bins=hbins)\n",
    "            if np.sum(cnt)!=0:\n",
    "                y=cnt.cumsum()/np.sum(cnt)\n",
    "            else:\n",
    "                y=np.zeros(len(cnt))\n",
    "                \n",
    "            axt[i,j].set_xscale('log')    \n",
    "            axt[i,j].step(edges[:-1],y,label='R=%.0f km'%(R[z,p(i,j)]/1000),color=colors[z])\n",
    "            axt[i,j].set_xticks([1/c,60/c,1/24,1,7,365, 3650])\n",
    "            axt[i,j].set_xticklabels(['1s','1min','1h','1d','1w','1y','10y'])\n",
    "            axt[i,j].set_title('$P_{m= %.0f,R} (t)$' % magth[p(i,j)] )\n",
    "            axt[i,j].set_xlabel('Average Waiting Time')\n",
    "            axt[i,j].set_ylabel('CDF')\n",
    "            \n",
    "        axs[i,j].legend()\n",
    "        axt[i,j].legend(loc='upper left')"
   ]
  },
  {
   "cell_type": "markdown",
   "metadata": {},
   "source": [
    "Quando si computa Pm,R stiamo selezionando eventi sismici con una magnitudo oltre una certa soglia MA dentro una certa soglia di distanza. Si sono prima selezionati tutti gli eventi con m>mth e poi si è filtrato in base alla distanza. Questo vuol dire che in un qualche modo stiamo cercando la distribuzione dei tempi che si manifestino terremoti importanti ma che siano \"vicini\" entro una certa soglia. Se infatti aumentiamo R stiamo considerando la distribuzione dei tempi fra due terremoti importanti in qualsiasi punto della mappa, ma se restringiamo R vuol dire che in un qualche senso stiamo \"forzando una causalità\" fra i terremoti, siamo interessati alla PDF del tempo che dopo un terremoto importante se ne verichi un altro, ugualmente importante, entro una certa distanza. Ovviamente ci stiamo riferendo a una distanza fra ipocentri, che può essere poi proiettata a epicentri, in modo che diventi fruibile per la popolazione. L'idea di evoluzione temporale è verificata dal grafico qui sotto."
   ]
  },
  {
   "cell_type": "code",
   "execution_count": 110,
   "metadata": {},
   "outputs": [
    {
     "data": {
      "image/png": "[encoded data removed]",
      "text/plain": [
       "<Figure size 576x288 with 2 Axes>"
      ]
     },
     "metadata": {
      "needs_background": "light"
     },
     "output_type": "display_data"
    }
   ],
   "source": [
    "df['mag'][df['pointer']==-1]\n",
    "\n",
    "fig0, axs = plt.subplots(1,2,figsize=(8,4))\n",
    "#axs[0].set_yscale('log')\n",
    "axs[0].set_xlabel('Magnitude')\n",
    "axs[0].set_ylabel('PDF')\n",
    "axs[0].set_title('$m$ @pointer=-1')\n",
    "counts, bins, bars = axs[0].hist(df['mag'][df['pointer']==-1], bins=np.linspace(2,7,25-4),edgecolor='black',density=1)\n",
    "axs[1].step(bins[:-1],counts.cumsum()/np.sum(counts),color='red')\n",
    "axs[1].set_xlabel('Magnitude')\n",
    "axs[1].set_ylabel('CDF');"
   ]
  },
  {
   "cell_type": "markdown",
   "metadata": {},
   "source": [
    "Questo grafico mostra come i terremoti inidicizzati -1 (generatori) non sono quelli a maggiore terremoto (CDF plot utile se si usa il log-y space), nemmeno se considerassimo i segnali con m=2 come noise."
   ]
  },
  {
   "cell_type": "code",
   "execution_count": 120,
   "metadata": {},
   "outputs": [
    {
     "data": {
      "image/png": "[encoded data removed]",
      "text/plain": [
       "<Figure size 720x720 with 1 Axes>"
      ]
     },
     "metadata": {
      "needs_background": "light"
     },
     "output_type": "display_data"
    }
   ],
   "source": [
    "mask=(df['mag']>5) & (df['pointer']!=-1)\n",
    "i1 = df['pointer'][mask].to_numpy()\n",
    "origin=0\n",
    "for i in range(len(i1)):\n",
    "    mask1=[]\n",
    "    mask1=[i1[i]]\n",
    "    while mask1[-1]!=-1:\n",
    "        c=df['pointer'][mask1[-1]] \n",
    "        mask1.append(c)\n",
    "    origin=np.insert(origin,-1,mask1[-2])\n",
    "origin=np.delete(origin,-1)\n",
    "dtmc=df['t'][mask].to_numpy()-df['t'][origin].to_numpy()\n",
    "\n",
    "fig0, axs = plt.subplots(1,1,figsize=(10,10))\n",
    "axs.set_xlabel('Days ')\n",
    "axs.set_ylabel('PDF')\n",
    "axs.set_title('PDF del Waiting Time tra un terremoto con m>5 e il suo evento generatore')\n",
    "#axs[0].set_xscale('log')\n",
    "counts, bins, bars = axs.hist(dtmc/(60*60*24), bins=np.linspace(0,700,70),edgecolor='black',density=1)"
   ]
  },
  {
   "cell_type": "code",
   "execution_count": null,
   "metadata": {},
   "outputs": [],
   "source": []
  }
 ],
 "metadata": {
  "kernelspec": {
   "display_name": "Python 3",
   "language": "python",
   "name": "python3"
  },
  "language_info": {
   "codemirror_mode": {
    "name": "ipython",
    "version": 3
   },
   "file_extension": ".py",
   "mimetype": "text/x-python",
   "name": "python",
   "nbconvert_exporter": "python",
   "pygments_lexer": "ipython3",
   "version": "3.8.3"
  }
 },
 "nbformat": 4,
 "nbformat_minor": 4
}
